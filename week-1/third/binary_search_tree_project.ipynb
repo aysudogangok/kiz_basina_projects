{
  "nbformat": 4,
  "nbformat_minor": 0,
  "metadata": {
    "colab": {
      "provenance": [],
      "authorship_tag": "ABX9TyOYOY/Hect6F3TFOx2IV85h",
      "include_colab_link": true
    },
    "kernelspec": {
      "name": "python3",
      "display_name": "Python 3"
    },
    "language_info": {
      "name": "python"
    }
  },
  "cells": [
    {
      "cell_type": "markdown",
      "metadata": {
        "id": "view-in-github",
        "colab_type": "text"
      },
      "source": [
        "<a href=\"https://colab.research.google.com/github/aysudogangok/kiz_basina_projects/blob/main/week-1/third/binary_search_tree_project.ipynb\" target=\"_parent\"><img src=\"https://colab.research.google.com/assets/colab-badge.svg\" alt=\"Open In Colab\"/></a>"
      ]
    },
    {
      "cell_type": "markdown",
      "source": [
        "Binary Search Tree Projesi\n",
        "Proje 3\n",
        "\n",
        "[7, 5, 1, 8, 3, 6, 0, 9, 4, 2] dizisinin Binary-Search-Tree aşamalarını yazınız.\n",
        "\n",
        "Örnek: root x'dir. root'un sağından y bulunur. Solunda z bulunur vb."
      ],
      "metadata": {
        "id": "48acr49sS6hg"
      }
    },
    {
      "cell_type": "markdown",
      "source": [
        "# Binary Search Tree Ödevi – Proje 3\n",
        "\n",
        "## Verilen Dizi:\n",
        "[7, 5, 1, 8, 3, 6, 0, 9, 4, 2]\n",
        "\n",
        "## Aşamalar:\n",
        "\n",
        "- Root: 7  \n",
        "- 5, 7'nin soluna yerleşir.  \n",
        "- 1, 5'in soluna yerleşir.  \n",
        "- 8, 7'nin sağına yerleşir.  \n",
        "- 3, 1'in sağına yerleşir.  \n",
        "- 6, 5'in sağına yerleşir.  \n",
        "- 0, 1'in soluna yerleşir.  \n",
        "- 9, 8'in sağına yerleşir.  \n",
        "- 4, 3'ün sağına yerleşir.  \n",
        "- 2, 3'ün soluna yerleşir.\n",
        "\n",
        "## Açıklama:\n",
        "Binary Search Tree algoritması, her elemanı root'a göre konumlandırır:\n",
        "- Solda küçükler, sağda büyükler olur.\n",
        "- Her eklenen sayı, sırayla diğer düğümlerle karşılaştırılarak doğru yere yerleşir."
      ],
      "metadata": {
        "id": "JzKYjVnoS9Tq"
      }
    }
  ]
}