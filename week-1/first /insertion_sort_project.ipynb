{
  "nbformat": 4,
  "nbformat_minor": 0,
  "metadata": {
    "colab": {
      "provenance": [],
      "authorship_tag": "ABX9TyOCqdQJ5nqES/41LU/nwoba",
      "include_colab_link": true
    },
    "kernelspec": {
      "name": "python3",
      "display_name": "Python 3"
    },
    "language_info": {
      "name": "python"
    }
  },
  "cells": [
    {
      "cell_type": "markdown",
      "metadata": {
        "id": "view-in-github",
        "colab_type": "text"
      },
      "source": [
        "<a href=\"https://colab.research.google.com/github/aysudogangok/project-1/blob/main/insertion_sort_project.ipynb\" target=\"_parent\"><img src=\"https://colab.research.google.com/assets/colab-badge.svg\" alt=\"Open In Colab\"/></a>"
      ]
    },
    {
      "cell_type": "markdown",
      "source": [
        "Insertion Sort Projesi\n",
        "Proje 1\n",
        "\n",
        "[22,27,16,2,18,6] -> Insertion Sort\n",
        "\n",
        "Yukarı verilen dizinin sort türüne göre aşamalarını yazınız.\n",
        "\n",
        "Big-O gösterimini yazınız.\n",
        "\n",
        "Time Complexity: Dizi sıralandıktan sonra 18 sayısı aşağıdaki case'lerden hangisinin kapsamına girer? Yazınız\n",
        "\n",
        "Average case: Aradığımız sayının ortada olması\n",
        "Worst case: Aradığımız sayının sonda olması\n",
        "Best case: Aradığımız sayının dizinin en başında olması.\n",
        ".\n",
        "\n",
        "\n",
        "\n",
        "[7,3,5,8,2,9,4,15,6] dizisinin Selection Sort'a göre ilk 4 adımını yazınız."
      ],
      "metadata": {
        "id": "grbklcD5I2Cq"
      }
    },
    {
      "cell_type": "markdown",
      "source": [
        "# Insertion Sort Ödevi\n",
        "\n",
        "## 1. Verilen Dizi:\n",
        "[22, 27, 16, 2, 18, 6]\n",
        "\n",
        "## 2. Insertion Sort Aşamaları:\n",
        "1. [22 | 27, 16, 2, 18, 6]  \n",
        "2. [22, 27 | 16, 2, 18, 6]  \n",
        "3. [16, 22, 27 | 2, 18, 6]  \n",
        "4. [2, 16, 22, 27 | 18, 6]  \n",
        "5. [2, 16, 18, 22, 27 | 6]  \n",
        "6. [2, 6, 16, 18, 22, 27]\n",
        "\n",
        "## 3. Big-O Gösterimi:\n",
        "- Best Case: O(n) → Dizi zaten sıralıysa  \n",
        "- Average Case: O(n²)  \n",
        "- Worst Case: O(n²) → Dizi tamamen ters sıralıysa\n",
        "\n",
        "## 4. \"18\" Sayısı Hangi Duruma Girer?\n",
        "Dizi sıralandığında [2, 6, 16, **18**, 22, 27] olur.  \n",
        "18 dizinin ortasında yer alır → **Average Case**\n",
        "\n",
        "---\n",
        "\n",
        "## Selection Sort - İlk 4 Adım\n",
        "\n",
        "### Verilen Dizi:\n",
        "[7, 3, 5, 8, 2, 9, 4, 15, 6]\n",
        "\n",
        "### Aşamalar:\n",
        "1. En küçük sayı 2, başa alınır → [2, 3, 5, 8, 7, 9, 4, 15, 6]  \n",
        "2. 3 zaten doğru yerde → [2, 3, 5, 8, 7, 9, 4, 15, 6]  \n",
        "3. 5 zaten doğru yerde → [2, 3, 5, 8, 7, 9, 4, 15, 6]  \n",
        "4. 4, 8 ile yer değiştirir → [2, 3, 5, 4, 7, 9, 8, 15, 6]"
      ],
      "metadata": {
        "id": "2nfBVgDsHa2g"
      }
    }
  ]
}
