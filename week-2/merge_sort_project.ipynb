{
  "nbformat": 4,
  "nbformat_minor": 0,
  "metadata": {
    "colab": {
      "provenance": [],
      "authorship_tag": "ABX9TyMGIThepZRvytJLWxkbLdOC",
      "include_colab_link": true
    },
    "kernelspec": {
      "name": "python3",
      "display_name": "Python 3"
    },
    "language_info": {
      "name": "python"
    }
  },
  "cells": [
    {
      "cell_type": "markdown",
      "metadata": {
        "id": "view-in-github",
        "colab_type": "text"
      },
      "source": [
        "<a href=\"https://colab.research.google.com/github/aysudogangok/kiz_basina_projects/blob/main/week-2/merge_sort_project.ipynb\" target=\"_parent\"><img src=\"https://colab.research.google.com/assets/colab-badge.svg\" alt=\"Open In Colab\"/></a>"
      ]
    },
    {
      "cell_type": "markdown",
      "source": [
        "Merge Sort\n",
        "Proje 2\n",
        "\n",
        "[16,21,11,8,12,22] -> Merge Sort\n",
        "\n",
        "Yukarıdaki dizinin sort türüne göre aşamalarını yazınız.\n",
        "Big-O gösterimini yazınız."
      ],
      "metadata": {
        "id": "tbSpEPtPOcaM"
      }
    },
    {
      "cell_type": "markdown",
      "source": [
        "# Merge Sort Ödevi – Proje 2\n",
        "\n",
        "## 1. Verilen Dizi\n",
        "[16, 21, 11, 8, 12, 22]\n",
        "\n",
        "## 2. Merge Sort Aşamaları\n",
        "\n",
        "**1. Adım: Dizi ikiye bölünür**  \n",
        "[16, 21, 11] | [8, 12, 22]\n",
        "\n",
        "**2. Adım: Her yarı kendi içinde tekrar bölünür**  \n",
        "[16, 21] + [11] | [8, 12] + [22]\n",
        "\n",
        "**3. Adım: Küçük diziler sıralanır**  \n",
        "[16, 21] → [16, 21]  \n",
        "[8, 12] → [8, 12]\n",
        "\n",
        "**4. Adım: Küçük diziler birleştirilerek sıralanır**  \n",
        "[16, 21] + [11] → [11, 16, 21]  \n",
        "[8, 12] + [22] → [8, 12, 22]\n",
        "\n",
        "**5. Adım: Son iki büyük parça birleştirilir**  \n",
        "[11, 16, 21] + [8, 12, 22] → [8, 11, 12, 16, 21, 22]\n",
        "\n",
        "## 3. Sıralanmış Dizi\n",
        "[8, 11, 12, 16, 21, 22]\n",
        "\n",
        "## 4. Big-O Gösterimi\n",
        "\n",
        "Merge Sort algoritmasının zaman karmaşıklığı:\n",
        "\n",
        "- **Best Case:** O(n log n)  \n",
        "- **Average Case:** O(n log n)  \n",
        "- **Worst Case:** O(n log n)\n",
        "\n",
        "Açıklama: Dizi her seferinde ikiye bölünür (log n), her seviyede n eleman karşılaştırılır → O(n log n)"
      ],
      "metadata": {
        "id": "zOF_VwkcOqNH"
      }
    }
  ]
}